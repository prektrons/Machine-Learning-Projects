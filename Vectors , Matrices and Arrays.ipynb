{
 "cells": [
  {
   "cell_type": "code",
   "execution_count": 1,
   "id": "upper-straight",
   "metadata": {},
   "outputs": [],
   "source": [
    "import numpy as np\n",
    "from scipy import sparse"
   ]
  },
  {
   "cell_type": "markdown",
   "id": "trained-addiction",
   "metadata": {},
   "source": [
    "# Vectors"
   ]
  },
  {
   "cell_type": "code",
   "execution_count": 2,
   "id": "military-addition",
   "metadata": {},
   "outputs": [],
   "source": [
    "vector_row=np.array([1,2,3])"
   ]
  },
  {
   "cell_type": "code",
   "execution_count": 3,
   "id": "super-feature",
   "metadata": {},
   "outputs": [],
   "source": [
    "vector_columns=np.array([[1],[2],[3]])"
   ]
  },
  {
   "cell_type": "code",
   "execution_count": 4,
   "id": "domestic-sector",
   "metadata": {},
   "outputs": [
    {
     "data": {
      "text/plain": [
       "array([1, 2, 3])"
      ]
     },
     "execution_count": 4,
     "metadata": {},
     "output_type": "execute_result"
    }
   ],
   "source": [
    "vector_row"
   ]
  },
  {
   "cell_type": "code",
   "execution_count": 5,
   "id": "unknown-sight",
   "metadata": {},
   "outputs": [
    {
     "data": {
      "text/plain": [
       "array([[1],\n",
       "       [2],\n",
       "       [3]])"
      ]
     },
     "execution_count": 5,
     "metadata": {},
     "output_type": "execute_result"
    }
   ],
   "source": [
    "vector_columns"
   ]
  },
  {
   "cell_type": "code",
   "execution_count": 6,
   "id": "choice-overview",
   "metadata": {},
   "outputs": [],
   "source": [
    "list1 = [1, 2, 3]"
   ]
  },
  {
   "cell_type": "code",
   "execution_count": 7,
   "id": "intense-beaver",
   "metadata": {},
   "outputs": [],
   "source": [
    "vector = np.array(list1)"
   ]
  },
  {
   "cell_type": "code",
   "execution_count": 8,
   "id": "worth-highland",
   "metadata": {},
   "outputs": [],
   "source": [
    "scalar = 2"
   ]
  },
  {
   "cell_type": "code",
   "execution_count": 9,
   "id": "supreme-australia",
   "metadata": {},
   "outputs": [],
   "source": [
    "scalar_mul = vector * scalar"
   ]
  },
  {
   "cell_type": "markdown",
   "id": "elect-domain",
   "metadata": {},
   "source": [
    "# Matrices"
   ]
  },
  {
   "cell_type": "code",
   "execution_count": 10,
   "id": "infinite-muscle",
   "metadata": {},
   "outputs": [],
   "source": [
    "matrix=np.mat([[1,2],[2,4],[4,6]])"
   ]
  },
  {
   "cell_type": "code",
   "execution_count": 11,
   "id": "continuing-marathon",
   "metadata": {},
   "outputs": [
    {
     "data": {
      "text/plain": [
       "matrix([[1, 2],\n",
       "        [2, 4],\n",
       "        [4, 6]])"
      ]
     },
     "execution_count": 11,
     "metadata": {},
     "output_type": "execute_result"
    }
   ],
   "source": [
    "matrix"
   ]
  },
  {
   "cell_type": "code",
   "execution_count": 12,
   "id": "bright-express",
   "metadata": {},
   "outputs": [],
   "source": [
    "#Sparse Matrix\n",
    "matrix=np.array([[0,1],\n",
    "               [0,0],\n",
    "                [3,0]])"
   ]
  },
  {
   "cell_type": "code",
   "execution_count": 13,
   "id": "black-entry",
   "metadata": {},
   "outputs": [
    {
     "data": {
      "text/plain": [
       "<3x2 sparse matrix of type '<class 'numpy.intc'>'\n",
       "\twith 2 stored elements in Compressed Sparse Row format>"
      ]
     },
     "execution_count": 13,
     "metadata": {},
     "output_type": "execute_result"
    }
   ],
   "source": [
    "matrix_sparse=sparse.csr_matrix(matrix)\n",
    "matrix_sparse"
   ]
  },
  {
   "cell_type": "markdown",
   "id": "mineral-affect",
   "metadata": {},
   "source": [
    "# Practice"
   ]
  },
  {
   "cell_type": "code",
   "execution_count": 14,
   "id": "healthy-principal",
   "metadata": {},
   "outputs": [],
   "source": [
    "vector=np.array([0,1, 2,3, 5,6, 7,8,9,10])"
   ]
  },
  {
   "cell_type": "code",
   "execution_count": 15,
   "id": "common-venue",
   "metadata": {},
   "outputs": [
    {
     "data": {
      "text/plain": [
       "array([ 0,  1,  2,  3,  5,  6,  7,  8,  9, 10])"
      ]
     },
     "execution_count": 15,
     "metadata": {},
     "output_type": "execute_result"
    }
   ],
   "source": [
    "vector[:]"
   ]
  },
  {
   "cell_type": "code",
   "execution_count": 16,
   "id": "spanish-ethernet",
   "metadata": {},
   "outputs": [
    {
     "data": {
      "text/plain": [
       "array([0, 1, 2, 3])"
      ]
     },
     "execution_count": 16,
     "metadata": {},
     "output_type": "execute_result"
    }
   ],
   "source": [
    "vector[:4]"
   ]
  },
  {
   "cell_type": "code",
   "execution_count": 17,
   "id": "impossible-amateur",
   "metadata": {},
   "outputs": [
    {
     "data": {
      "text/plain": [
       "array([ 8,  9, 10])"
      ]
     },
     "execution_count": 17,
     "metadata": {},
     "output_type": "execute_result"
    }
   ],
   "source": [
    "vector[-3:]"
   ]
  },
  {
   "cell_type": "code",
   "execution_count": 18,
   "id": "resistant-macintosh",
   "metadata": {},
   "outputs": [],
   "source": [
    "matrix = np.array([[61, 92, 83],\n",
    "                   [74, 15, 6],\n",
    "                   [667, 8, 279],\n",
    "                  [224,0,876]])"
   ]
  },
  {
   "cell_type": "code",
   "execution_count": 19,
   "id": "sporting-personal",
   "metadata": {},
   "outputs": [
    {
     "data": {
      "text/plain": [
       "array([[ 83],\n",
       "       [  6],\n",
       "       [279]])"
      ]
     },
     "execution_count": 19,
     "metadata": {},
     "output_type": "execute_result"
    }
   ],
   "source": [
    "matrix[:3,2:]"
   ]
  },
  {
   "cell_type": "code",
   "execution_count": 20,
   "id": "classified-problem",
   "metadata": {},
   "outputs": [
    {
     "data": {
      "text/plain": [
       "array([[224,   0, 876]])"
      ]
     },
     "execution_count": 20,
     "metadata": {},
     "output_type": "execute_result"
    }
   ],
   "source": [
    "matrix[-1:,:]"
   ]
  },
  {
   "cell_type": "code",
   "execution_count": 21,
   "id": "naughty-tucson",
   "metadata": {},
   "outputs": [
    {
     "data": {
      "text/plain": [
       "6"
      ]
     },
     "execution_count": 21,
     "metadata": {},
     "output_type": "execute_result"
    }
   ],
   "source": [
    "matrix[1,2]"
   ]
  },
  {
   "cell_type": "code",
   "execution_count": 22,
   "id": "dated-campaign",
   "metadata": {},
   "outputs": [
    {
     "data": {
      "text/plain": [
       "array([[92],\n",
       "       [15],\n",
       "       [ 8],\n",
       "       [ 0]])"
      ]
     },
     "execution_count": 22,
     "metadata": {},
     "output_type": "execute_result"
    }
   ],
   "source": [
    "matrix[:,1:-1]"
   ]
  },
  {
   "cell_type": "code",
   "execution_count": 23,
   "id": "oriental-circle",
   "metadata": {},
   "outputs": [
    {
     "data": {
      "text/plain": [
       "876"
      ]
     },
     "execution_count": 23,
     "metadata": {},
     "output_type": "execute_result"
    }
   ],
   "source": [
    "# Maximum element in matrix\n",
    "np.max(matrix)"
   ]
  },
  {
   "cell_type": "code",
   "execution_count": 24,
   "id": "leading-queen",
   "metadata": {},
   "outputs": [
    {
     "data": {
      "text/plain": [
       "array([667,  92, 876])"
      ]
     },
     "execution_count": 24,
     "metadata": {},
     "output_type": "execute_result"
    }
   ],
   "source": [
    "# maximum element in each row in a matrix\n",
    "np.max(matrix,axis=0)"
   ]
  },
  {
   "cell_type": "code",
   "execution_count": 25,
   "id": "rapid-pressure",
   "metadata": {},
   "outputs": [
    {
     "data": {
      "text/plain": [
       "array([61,  0,  6])"
      ]
     },
     "execution_count": 25,
     "metadata": {},
     "output_type": "execute_result"
    }
   ],
   "source": [
    "# minimum element in each row in a matrix\n",
    "np.min(matrix,axis=0)"
   ]
  },
  {
   "cell_type": "markdown",
   "id": "champion-runner",
   "metadata": {},
   "source": [
    "# Average, Variance and Standard Variance"
   ]
  },
  {
   "cell_type": "code",
   "execution_count": 26,
   "id": "collectible-white",
   "metadata": {},
   "outputs": [
    {
     "data": {
      "text/plain": [
       "198.75"
      ]
     },
     "execution_count": 26,
     "metadata": {},
     "output_type": "execute_result"
    }
   ],
   "source": [
    "np.mean(matrix)"
   ]
  },
  {
   "cell_type": "code",
   "execution_count": 27,
   "id": "public-cannon",
   "metadata": {},
   "outputs": [
    {
     "data": {
      "text/plain": [
       "74261.52083333333"
      ]
     },
     "execution_count": 27,
     "metadata": {},
     "output_type": "execute_result"
    }
   ],
   "source": [
    "np.var(matrix)"
   ]
  },
  {
   "cell_type": "code",
   "execution_count": 28,
   "id": "underlying-playback",
   "metadata": {},
   "outputs": [
    {
     "data": {
      "text/plain": [
       "272.50967108220823"
      ]
     },
     "execution_count": 28,
     "metadata": {},
     "output_type": "execute_result"
    }
   ],
   "source": [
    "np.std(matrix)"
   ]
  },
  {
   "cell_type": "markdown",
   "id": "centered-chest",
   "metadata": {},
   "source": [
    "# Reshaping Arrays"
   ]
  },
  {
   "cell_type": "code",
   "execution_count": 29,
   "id": "unlikely-endorsement",
   "metadata": {},
   "outputs": [
    {
     "data": {
      "text/plain": [
       "array([[ 61,  92,  83],\n",
       "       [ 74,  15,   6],\n",
       "       [667,   8, 279],\n",
       "       [224,   0, 876]])"
      ]
     },
     "execution_count": 29,
     "metadata": {},
     "output_type": "execute_result"
    }
   ],
   "source": [
    "matrix.reshape(4,3)"
   ]
  },
  {
   "cell_type": "code",
   "execution_count": 30,
   "id": "deluxe-windows",
   "metadata": {},
   "outputs": [
    {
     "data": {
      "text/plain": [
       "array([[ 61,  92,  83,  74,  15,   6],\n",
       "       [667,   8, 279, 224,   0, 876]])"
      ]
     },
     "execution_count": 30,
     "metadata": {},
     "output_type": "execute_result"
    }
   ],
   "source": [
    "matrix.reshape(2,6)"
   ]
  },
  {
   "cell_type": "code",
   "execution_count": 31,
   "id": "powered-silly",
   "metadata": {},
   "outputs": [
    {
     "data": {
      "text/plain": [
       "array([[ 61,  92],\n",
       "       [ 83,  74],\n",
       "       [ 15,   6],\n",
       "       [667,   8],\n",
       "       [279, 224],\n",
       "       [  0, 876]])"
      ]
     },
     "execution_count": 31,
     "metadata": {},
     "output_type": "execute_result"
    }
   ],
   "source": [
    "matrix.reshape(6,2)"
   ]
  },
  {
   "cell_type": "code",
   "execution_count": 33,
   "id": "northern-window",
   "metadata": {},
   "outputs": [
    {
     "data": {
      "text/plain": [
       "array([ 61,  92,  83,  74,  15,   6, 667,   8, 279, 224,   0, 876])"
      ]
     },
     "execution_count": 33,
     "metadata": {},
     "output_type": "execute_result"
    }
   ],
   "source": [
    "matrix.flatten()"
   ]
  },
  {
   "cell_type": "code",
   "execution_count": 34,
   "id": "chemical-graph",
   "metadata": {},
   "outputs": [
    {
     "data": {
      "text/plain": [
       "array([ 61,  15, 279])"
      ]
     },
     "execution_count": 34,
     "metadata": {},
     "output_type": "execute_result"
    }
   ],
   "source": [
    "matrix.diagonal()"
   ]
  },
  {
   "cell_type": "code",
   "execution_count": 35,
   "id": "protecting-parallel",
   "metadata": {},
   "outputs": [
    {
     "data": {
      "text/plain": [
       "355"
      ]
     },
     "execution_count": 35,
     "metadata": {},
     "output_type": "execute_result"
    }
   ],
   "source": [
    "matrix.trace()"
   ]
  },
  {
   "cell_type": "code",
   "execution_count": null,
   "id": "applied-guatemala",
   "metadata": {},
   "outputs": [],
   "source": []
  }
 ],
 "metadata": {
  "kernelspec": {
   "display_name": "Python 3",
   "language": "python",
   "name": "python3"
  },
  "language_info": {
   "codemirror_mode": {
    "name": "ipython",
    "version": 3
   },
   "file_extension": ".py",
   "mimetype": "text/x-python",
   "name": "python",
   "nbconvert_exporter": "python",
   "pygments_lexer": "ipython3",
   "version": "3.9.2"
  }
 },
 "nbformat": 4,
 "nbformat_minor": 5
}
