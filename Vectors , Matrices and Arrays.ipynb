{
 "cells": [
  {
   "cell_type": "code",
   "execution_count": 1,
   "id": "upper-straight",
   "metadata": {},
   "outputs": [],
   "source": [
    "import numpy as np"
   ]
  },
  {
   "cell_type": "markdown",
   "id": "trained-addiction",
   "metadata": {},
   "source": [
    "# Vectors"
   ]
  },
  {
   "cell_type": "code",
   "execution_count": 2,
   "id": "military-addition",
   "metadata": {},
   "outputs": [],
   "source": [
    "vector_row=np.array([1,2,3])"
   ]
  },
  {
   "cell_type": "code",
   "execution_count": 3,
   "id": "super-feature",
   "metadata": {},
   "outputs": [],
   "source": [
    "vector_columns=np.array([[1],[2],[3]])"
   ]
  },
  {
   "cell_type": "code",
   "execution_count": 4,
   "id": "domestic-sector",
   "metadata": {},
   "outputs": [
    {
     "data": {
      "text/plain": [
       "array([1, 2, 3])"
      ]
     },
     "execution_count": 4,
     "metadata": {},
     "output_type": "execute_result"
    }
   ],
   "source": [
    "vector_row"
   ]
  },
  {
   "cell_type": "code",
   "execution_count": 5,
   "id": "unknown-sight",
   "metadata": {},
   "outputs": [
    {
     "data": {
      "text/plain": [
       "array([[1],\n",
       "       [2],\n",
       "       [3]])"
      ]
     },
     "execution_count": 5,
     "metadata": {},
     "output_type": "execute_result"
    }
   ],
   "source": [
    "vector_columns"
   ]
  },
  {
   "cell_type": "code",
   "execution_count": null,
   "id": "choice-overview",
   "metadata": {},
   "outputs": [],
   "source": [
    "list1 = [1, 2, 3]"
   ]
  },
  {
   "cell_type": "code",
   "execution_count": null,
   "id": "intense-beaver",
   "metadata": {},
   "outputs": [],
   "source": [
    "vector = np.array(list1)"
   ]
  },
  {
   "cell_type": "code",
   "execution_count": null,
   "id": "worth-highland",
   "metadata": {},
   "outputs": [],
   "source": [
    "scalar = 2"
   ]
  },
  {
   "cell_type": "code",
   "execution_count": null,
   "id": "supreme-australia",
   "metadata": {},
   "outputs": [],
   "source": [
    "scalar_mul = vector * scalar"
   ]
  }
 ],
 "metadata": {
  "kernelspec": {
   "display_name": "Python 3",
   "language": "python",
   "name": "python3"
  },
  "language_info": {
   "codemirror_mode": {
    "name": "ipython",
    "version": 3
   },
   "file_extension": ".py",
   "mimetype": "text/x-python",
   "name": "python",
   "nbconvert_exporter": "python",
   "pygments_lexer": "ipython3",
   "version": "3.9.2"
  }
 },
 "nbformat": 4,
 "nbformat_minor": 5
}
